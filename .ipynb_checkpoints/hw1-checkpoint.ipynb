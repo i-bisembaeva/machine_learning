{
 "cells": [
  {
   "cell_type": "code",
   "execution_count": 67,
   "metadata": {},
   "outputs": [
    {
     "name": "stdout",
     "output_type": "stream",
     "text": [
      "[0.9527544408738466, 0.8644738145642124, 0.8951715163278082, 0.7770887149698589, 0.9402385695332803, 0.7327387580875756, 0.9258750683338899, 0.884272487528431, 0.9055088817476932, 0.8328165362273942, 0.8804771390665607, 0.8396432548525454, 0.8703592552895671, 0.8740118423302576, 0.9442721787424647, 0.8406361854220809, 0.956644501523794, 0.9442721787424647, 0.8885443574849294, 0.8427572744917122, 0.8250364469440586]\n",
      "6 4\n"
     ]
    }
   ],
   "source": [
    "import re\n",
    "import numpy as np\n",
    "data = []\n",
    "with open ('sentences.txt', 'r') as file:\n",
    "    for line in file:\n",
    "        lowstr = line.lower()\n",
    "        data.append(lowstr)\n",
    "for i in range(len(data)):\n",
    "    data[i] = re.split('[^a-z]', data[i])\n",
    "    for j in range(data[i].count('')):\n",
    "        data[i].remove('')\n",
    "#print(data)\n",
    "dict = {}\n",
    "count = 0\n",
    "for line in data:\n",
    "    for word in line:\n",
    "        if not (word in dict.keys()):\n",
    "            dict[word] = count\n",
    "            count += 1\n",
    "#print(dict)\n",
    "matrix = np.zeros((len(data), len(dict)))\n",
    "for i in range(len(data)):\n",
    "    for j in range(len(dict)):\n",
    "        for item in dict.items():\n",
    "            matrix[i][item[1]] = data[i].count(item[0])\n",
    "np.set_printoptions(threshold=np.inf)\n",
    "#print(matrix)\n",
    "def cosine_distance(vA, vB):\n",
    "    cos = 1 - np.dot(vA, vB) / (np.sqrt(np.dot(vA,vA)) * np.sqrt(np.dot(vB,vB)))\n",
    "    return cos\n",
    "arr = np.array(matrix)\n",
    "results = []\n",
    "for i in range(1, len(arr)):\n",
    "    results.append(cosine_distance(arr[0], arr[i]))\n",
    "#print(results)\n",
    "res1 = [None] * len(results);   \n",
    "for i in range(0, len(results)):    \n",
    "    res1[i] = results[i]; \n",
    "print(res1)\n",
    "results.sort()\n",
    "#print(results)\n",
    "for i in range(len(res1)):\n",
    "    if(results[0] == res1[i]):\n",
    "         x1 = i + 1\n",
    "    elif(results[1] == res1[i]):\n",
    "        x2 = i + 1\n",
    "print(x1, x2)"
   ]
  },
  {
   "cell_type": "code",
   "execution_count": null,
   "metadata": {},
   "outputs": [],
   "source": []
  },
  {
   "cell_type": "code",
   "execution_count": null,
   "metadata": {},
   "outputs": [],
   "source": []
  }
 ],
 "metadata": {
  "kernelspec": {
   "display_name": "Python 3",
   "language": "python",
   "name": "python3"
  },
  "language_info": {
   "codemirror_mode": {
    "name": "ipython",
    "version": 3
   },
   "file_extension": ".py",
   "mimetype": "text/x-python",
   "name": "python",
   "nbconvert_exporter": "python",
   "pygments_lexer": "ipython3",
   "version": "3.8.5"
  }
 },
 "nbformat": 4,
 "nbformat_minor": 4
}
