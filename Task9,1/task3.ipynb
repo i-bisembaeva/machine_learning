{
 "cells": [
  {
   "cell_type": "code",
   "execution_count": 1,
   "metadata": {},
   "outputs": [],
   "source": [
    "import numpy as np"
   ]
  },
  {
   "cell_type": "code",
   "execution_count": 2,
   "metadata": {},
   "outputs": [],
   "source": [
    "# a[n] and b[n]\n",
    "# if p < q => p is upper than q\n",
    "# a[n] => fish size\n",
    "# b[n] => direction (only 0 or 1)\n",
    "# 0 => up\n",
    "# 1 => down\n",
    "# when p < q => b[p] = 1 and b[q] = 0\n",
    "# if a[p] > a[q] => p eats q => down\n",
    "# if a[p] < a[q] => q eats p => up"
   ]
  },
  {
   "cell_type": "code",
   "execution_count": 18,
   "metadata": {},
   "outputs": [
    {
     "name": "stdout",
     "output_type": "stream",
     "text": [
      "4\n"
     ]
    }
   ],
   "source": [
    "def solution(a, b):\n",
    "    num = len(a)\n",
    "    if (num == 0):\n",
    "        return 0\n",
    "    stack = []\n",
    "    for i in range(len(a)):\n",
    "        if (b[i] == 1):\n",
    "            stack.append(a[i])\n",
    "        else:\n",
    "            while (len(stack)):\n",
    "                if(stack[-1] > a[i]):\n",
    "                    num -= 1\n",
    "                    break\n",
    "                elif (stack[-1] < a[i]):\n",
    "                    num -= 1\n",
    "                    stack.pop()\n",
    "    return num\n",
    "\n",
    "a=np.array([4,3,2,1,5])\n",
    "b=np.array([0,1,0,1,1])\n",
    "print(solution(a,b))"
   ]
  },
  {
   "cell_type": "code",
   "execution_count": null,
   "metadata": {},
   "outputs": [],
   "source": []
  }
 ],
 "metadata": {
  "kernelspec": {
   "display_name": "Python 3",
   "language": "python",
   "name": "python3"
  },
  "language_info": {
   "codemirror_mode": {
    "name": "ipython",
    "version": 3
   },
   "file_extension": ".py",
   "mimetype": "text/x-python",
   "name": "python",
   "nbconvert_exporter": "python",
   "pygments_lexer": "ipython3",
   "version": "3.8.5"
  }
 },
 "nbformat": 4,
 "nbformat_minor": 4
}
