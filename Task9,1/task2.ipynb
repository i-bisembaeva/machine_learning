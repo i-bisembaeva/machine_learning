{
 "cells": [
  {
   "cell_type": "code",
   "execution_count": 1,
   "metadata": {},
   "outputs": [],
   "source": [
    "import numpy as np"
   ]
  },
  {
   "cell_type": "code",
   "execution_count": null,
   "metadata": {},
   "outputs": [],
   "source": [
    "#a[n]\n",
    "#n /2 != 0\n",
    "# a[n] ~ a[n+1] if a[n] == a[n+1]\n",
    "# 0 and 2 = 9\n",
    "# 1 and 3 = 3\n",
    "# 4 and 6 = 9\n",
    "# 5 = 7\n",
    "# output = a[5] = 7\n",
    "# n [1 ~ 1 000 000]\n",
    "# a[n] [1 ~ 1 000 000 000]\n",
    "# ^= XOR\n",
    "# 9^3^9^3^9^7^9 => (9^9)^(9^9)^(3^3)^7\n",
    "# 9^9 => 0"
   ]
  },
  {
   "cell_type": "code",
   "execution_count": 30,
   "metadata": {},
   "outputs": [
    {
     "name": "stdout",
     "output_type": "stream",
     "text": [
      "7\n"
     ]
    }
   ],
   "source": [
    "def solution(a):\n",
    "    ans = 0\n",
    "    for i in range(len(a)):\n",
    "        ans ^= i\n",
    "    return ans\n",
    "\n",
    "n = 7\n",
    "A = np.zeros(n)\n",
    "A [0] = 9 \n",
    "A [1] = 3 \n",
    "A [2] = 9\n",
    "A [3] = 3 \n",
    "A [4] = 9 \n",
    "A [5] = 9\n",
    "A [6] = 7\n",
    "print(solution(A))"
   ]
  },
  {
   "cell_type": "code",
   "execution_count": null,
   "metadata": {},
   "outputs": [],
   "source": []
  },
  {
   "cell_type": "code",
   "execution_count": null,
   "metadata": {},
   "outputs": [],
   "source": []
  }
 ],
 "metadata": {
  "kernelspec": {
   "display_name": "Python 3",
   "language": "python",
   "name": "python3"
  },
  "language_info": {
   "codemirror_mode": {
    "name": "ipython",
    "version": 3
   },
   "file_extension": ".py",
   "mimetype": "text/x-python",
   "name": "python",
   "nbconvert_exporter": "python",
   "pygments_lexer": "ipython3",
   "version": "3.8.5"
  }
 },
 "nbformat": 4,
 "nbformat_minor": 4
}
