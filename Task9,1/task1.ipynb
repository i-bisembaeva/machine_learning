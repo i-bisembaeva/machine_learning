{
 "cells": [
  {
   "cell_type": "code",
   "execution_count": 1,
   "metadata": {},
   "outputs": [],
   "source": [
    "# n disks\n",
    "# n = 0~n-1\n",
    "# a[n] > 0 radiuses\n",
    "# a[j] = center(j, 0) radius a[j]\n",
    "# a[j] and a[k] intercept if j != k and at least one same point\n",
    "# a[0] = center = 0 radius = 1\n",
    "# a[1] = center = 1 radius = 5\n",
    "# a[2] = center = 2 radius = 2\n",
    "# a[3] = center = 3 radius = 1\n",
    "# a[4] = center = 4 radius = 4\n",
    "# a[5] = center = 5 radius = 0\n",
    "# 1 and 4 ~ all circles\n",
    "# 2 ~ 0 and 3\n",
    "# n = 6 output: 11\n",
    "# n [0 ~ 100 000]\n",
    "# a[i] = [0 ~ 2 147 483 647]\n",
    "import numpy as np"
   ]
  },
  {
   "cell_type": "code",
   "execution_count": 2,
   "metadata": {},
   "outputs": [
    {
     "name": "stdout",
     "output_type": "stream",
     "text": [
      "11\n"
     ]
    }
   ],
   "source": [
    "class Solution():\n",
    "    def output(a):\n",
    "        cnt = 0\n",
    "        for j in range(0, len(a)):\n",
    "            for k in range (j+1, len(a)):\n",
    "                d1 = k - j\n",
    "                d2 = a[j] + a[k]\n",
    "                if (d1 <= d2):\n",
    "                    cnt += 1\n",
    "        if (cnt > 10000000):\n",
    "            return -1\n",
    "        return cnt\n",
    "    \n",
    "    N = 6\n",
    "    A = np.zeros(N)\n",
    "    A[0] = 1\n",
    "    A[1] = 5\n",
    "    A[2] = 2\n",
    "    A[3] = 1\n",
    "    A[4] = 4\n",
    "    A[5] = 0\n",
    "    print(output(A))"
   ]
  },
  {
   "cell_type": "code",
   "execution_count": null,
   "metadata": {},
   "outputs": [],
   "source": []
  },
  {
   "cell_type": "code",
   "execution_count": null,
   "metadata": {},
   "outputs": [],
   "source": []
  }
 ],
 "metadata": {
  "kernelspec": {
   "display_name": "Python 3",
   "language": "python",
   "name": "python3"
  },
  "language_info": {
   "codemirror_mode": {
    "name": "ipython",
    "version": 3
   },
   "file_extension": ".py",
   "mimetype": "text/x-python",
   "name": "python",
   "nbconvert_exporter": "python",
   "pygments_lexer": "ipython3",
   "version": "3.8.5"
  }
 },
 "nbformat": 4,
 "nbformat_minor": 4
}
